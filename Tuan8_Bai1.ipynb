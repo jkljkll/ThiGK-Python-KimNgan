{
  "nbformat": 4,
  "nbformat_minor": 0,
  "metadata": {
    "colab": {
      "name": "T8_Bai1_NguyenThiKimNgan_16076411.ipynb",
      "provenance": []
    },
    "kernelspec": {
      "name": "python3",
      "display_name": "Python 3"
    }
  },
  "cells": [
    {
      "cell_type": "code",
      "metadata": {
        "colab": {
          "base_uri": "https://localhost:8080/"
        },
        "id": "qhuCow-Ay8I6",
        "outputId": "242786ae-ad05-45a2-b9e6-22995ac8d2c9"
      },
      "source": [
        "from sklearn.datasets import load_iris\r\n",
        "iris = load_iris()\r\n",
        "iris.data[0:5]\r\n"
      ],
      "execution_count": 1,
      "outputs": [
        {
          "output_type": "execute_result",
          "data": {
            "text/plain": [
              "array([[5.1, 3.5, 1.4, 0.2],\n",
              "       [4.9, 3. , 1.4, 0.2],\n",
              "       [4.7, 3.2, 1.3, 0.2],\n",
              "       [4.6, 3.1, 1.5, 0.2],\n",
              "       [5. , 3.6, 1.4, 0.2]])"
            ]
          },
          "metadata": {
            "tags": []
          },
          "execution_count": 1
        }
      ]
    },
    {
      "cell_type": "code",
      "metadata": {
        "colab": {
          "base_uri": "https://localhost:8080/"
        },
        "id": "JOQMI-QM2KJD",
        "outputId": "7dcf93f6-4606-4dad-f931-544feef6dcb0"
      },
      "source": [
        "iris.target_names\r\n"
      ],
      "execution_count": 2,
      "outputs": [
        {
          "output_type": "execute_result",
          "data": {
            "text/plain": [
              "array(['setosa', 'versicolor', 'virginica'], dtype='<U10')"
            ]
          },
          "metadata": {
            "tags": []
          },
          "execution_count": 2
        }
      ]
    },
    {
      "cell_type": "code",
      "metadata": {
        "colab": {
          "base_uri": "https://localhost:8080/"
        },
        "id": "j402ToGy2MhB",
        "outputId": "837936b8-7eec-4706-b1b3-d969fa44f40a"
      },
      "source": [
        "iris.target\r\n"
      ],
      "execution_count": 3,
      "outputs": [
        {
          "output_type": "execute_result",
          "data": {
            "text/plain": [
              "array([0, 0, 0, 0, 0, 0, 0, 0, 0, 0, 0, 0, 0, 0, 0, 0, 0, 0, 0, 0, 0, 0,\n",
              "       0, 0, 0, 0, 0, 0, 0, 0, 0, 0, 0, 0, 0, 0, 0, 0, 0, 0, 0, 0, 0, 0,\n",
              "       0, 0, 0, 0, 0, 0, 1, 1, 1, 1, 1, 1, 1, 1, 1, 1, 1, 1, 1, 1, 1, 1,\n",
              "       1, 1, 1, 1, 1, 1, 1, 1, 1, 1, 1, 1, 1, 1, 1, 1, 1, 1, 1, 1, 1, 1,\n",
              "       1, 1, 1, 1, 1, 1, 1, 1, 1, 1, 1, 1, 2, 2, 2, 2, 2, 2, 2, 2, 2, 2,\n",
              "       2, 2, 2, 2, 2, 2, 2, 2, 2, 2, 2, 2, 2, 2, 2, 2, 2, 2, 2, 2, 2, 2,\n",
              "       2, 2, 2, 2, 2, 2, 2, 2, 2, 2, 2, 2, 2, 2, 2, 2, 2, 2])"
            ]
          },
          "metadata": {
            "tags": []
          },
          "execution_count": 3
        }
      ]
    },
    {
      "cell_type": "code",
      "metadata": {
        "colab": {
          "base_uri": "https://localhost:8080/"
        },
        "id": "0-GminSQ2Qwm",
        "outputId": "ab7b385e-b119-4429-fbf8-8b7ff78d2227"
      },
      "source": [
        "n_samples, n_features = iris.data.shape\r\n",
        "n_samples, n_features"
      ],
      "execution_count": 4,
      "outputs": [
        {
          "output_type": "execute_result",
          "data": {
            "text/plain": [
              "(150, 4)"
            ]
          },
          "metadata": {
            "tags": []
          },
          "execution_count": 4
        }
      ]
    },
    {
      "cell_type": "code",
      "metadata": {
        "colab": {
          "base_uri": "https://localhost:8080/"
        },
        "id": "tycJ2hMQ2Rm2",
        "outputId": "711f5e96-43bd-485f-c4d2-259c16e5cd71"
      },
      "source": [
        "iris.feature_names"
      ],
      "execution_count": 5,
      "outputs": [
        {
          "output_type": "execute_result",
          "data": {
            "text/plain": [
              "['sepal length (cm)',\n",
              " 'sepal width (cm)',\n",
              " 'petal length (cm)',\n",
              " 'petal width (cm)']"
            ]
          },
          "metadata": {
            "tags": []
          },
          "execution_count": 5
        }
      ]
    },
    {
      "cell_type": "code",
      "metadata": {
        "id": "wwbRvexm2Xha"
      },
      "source": [
        "from matplotlib import pyplot as plt\r\n",
        "# The indices of the features that we are plotting\r\n",
        "x_index = 0\r\n",
        "y_index = 1"
      ],
      "execution_count": 8,
      "outputs": []
    },
    {
      "cell_type": "code",
      "metadata": {
        "id": "cUyvb_vZ2Z3i"
      },
      "source": [
        "formatter = plt.FuncFormatter(lambda i, *args: iris.target_names[int(i)])"
      ],
      "execution_count": 9,
      "outputs": []
    },
    {
      "cell_type": "code",
      "metadata": {
        "colab": {
          "base_uri": "https://localhost:8080/",
          "height": 300
        },
        "id": "KX7K4wqP2cU0",
        "outputId": "2ba3fee3-8564-4fd4-ce62-b93d11d2ff9b"
      },
      "source": [
        "plt.figure(figsize=(5, 4))\r\n",
        "plt.scatter(iris.data[:, x_index], iris.data[:, y_index], c=iris.target)\r\n",
        "plt.colorbar(ticks=[0, 1, 2], format=formatter)\r\n",
        "plt.xlabel(iris.feature_names[x_index])\r\n",
        "plt.ylabel(iris.feature_names[y_index])"
      ],
      "execution_count": 10,
      "outputs": [
        {
          "output_type": "execute_result",
          "data": {
            "text/plain": [
              "Text(0, 0.5, 'sepal width (cm)')"
            ]
          },
          "metadata": {
            "tags": []
          },
          "execution_count": 10
        },
        {
          "output_type": "display_data",
          "data": {
            "image/png": "[encoded data removed]",
            "text/plain": [
              "<Figure size 360x288 with 2 Axes>"
            ]
          },
          "metadata": {
            "tags": [],
            "needs_background": "light"
          }
        }
      ]
    },
    {
      "cell_type": "code",
      "metadata": {
        "colab": {
          "base_uri": "https://localhost:8080/",
          "height": 34
        },
        "id": "gro1tIkw2fiv",
        "outputId": "1cd5c246-8821-4ff6-9479-1bfba21874b0"
      },
      "source": [
        "plt.tight_layout()\r\n",
        "plt.show()"
      ],
      "execution_count": 11,
      "outputs": [
        {
          "output_type": "display_data",
          "data": {
            "text/plain": [
              "<Figure size 432x288 with 0 Axes>"
            ]
          },
          "metadata": {
            "tags": []
          }
        }
      ]
    },
    {
      "cell_type": "code",
      "metadata": {
        "colab": {
          "base_uri": "https://localhost:8080/"
        },
        "id": "6_K_qmf52j04",
        "outputId": "5122a791-4213-4cab-99ce-2c33dc99d946"
      },
      "source": [
        "from sklearn import neighbors, datasets\r\n",
        "iris = datasets.load_iris()\r\n",
        "X, y = iris.data, iris.target\r\n",
        "knn = neighbors.KNeighborsClassifier(n_neighbors=1)\r\n",
        "knn.fit(X, y)\r\n",
        "# What kind of iris has 3cm x 5cm sepal and 4cm x 2cm petal?\r\n",
        "print(iris.target_names[knn.predict([[2, 1, 3, 1.5]])])"
      ],
      "execution_count": 12,
      "outputs": [
        {
          "output_type": "stream",
          "text": [
            "['versicolor']\n"
          ],
          "name": "stdout"
        }
      ]
    }
  ]
}
